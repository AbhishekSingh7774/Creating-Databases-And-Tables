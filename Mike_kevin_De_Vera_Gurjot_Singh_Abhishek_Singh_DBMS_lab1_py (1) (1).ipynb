{
  "nbformat": 4,
  "nbformat_minor": 0,
  "metadata": {
    "colab": {
      "provenance": [],
      "gpuType": "T4"
    },
    "kernelspec": {
      "name": "python3",
      "display_name": "Python 3"
    },
    "language_info": {
      "name": "python"
    },
    "accelerator": "GPU"
  },
  "cells": [
    {
      "cell_type": "markdown",
      "source": [
        "#SQLite3 Tutorial: Creating Databases And Tables\n",
        "\n",
        "SQLite is a self-contained, serverless, and lightweight database engine that allows you to store and manage structured data. In this tutorial, we will learn how to use the sqlite3 module in Python to create, modify, and query a SQLite database. We'll use Jupyter Notebook for a convenient interactive environment.\n",
        "\n",
        "##Getting Started:\n",
        "###1. Importing sqlite3 Module\n",
        "\n",
        "Start by importing the sqlite3 module, which is part of the Python standard library and provides an interface to work with SQLite databases."
      ],
      "metadata": {
        "id": "wEYhaHSYaEM6"
      }
    },
    {
      "cell_type": "code",
      "execution_count": null,
      "metadata": {
        "id": "E2vd1zslZy9Z"
      },
      "outputs": [],
      "source": [
        "import sqlite3"
      ]
    },
    {
      "cell_type": "markdown",
      "source": [
        "###2. Creating a Connection\n",
        "\n",
        "To interact with a SQLite database, you need to establish a connection to it. If the database doesn't exist, SQLite will create it for you. We'll use the `connect()` method to create a connection."
      ],
      "metadata": {
        "id": "cJLqtxx3agZU"
      }
    },
    {
      "cell_type": "code",
      "source": [
        "# Establish a connection to the database or create it if not exists\n",
        "conn = sqlite3.connect('mydatabase.db')"
      ],
      "metadata": {
        "id": "fa3Dnvl9albS"
      },
      "execution_count": null,
      "outputs": []
    },
    {
      "cell_type": "markdown",
      "source": [
        "Replace `mydatabase.db` with the desired name of your database file.\n",
        "\n",
        "##3. Creating a Table\n",
        "\n",
        "Tables store data in a structured format. Let's create a simple table to store information about users. We'll define the table's schema with columns for `id`, `username`, `email`, and other data types."
      ],
      "metadata": {
        "id": "ka8AJdY7apjO"
      }
    },
    {
      "cell_type": "code",
      "source": [
        "# Create a cursor object to interact with the database\n",
        "cursor = conn.cursor()"
      ],
      "metadata": {
        "id": "0DJPMW0Cauyl"
      },
      "execution_count": null,
      "outputs": []
    },
    {
      "cell_type": "code",
      "source": [
        "# Define the CREATE TABLE query, it's a simple string that holds the content of your query.\n",
        "\n",
        "create_table_query = '''\n",
        "CREATE TABLE IF NOT EXISTS users (\n",
        "    id INTEGER PRIMARY KEY,\n",
        "    username TEXT NOT NULL,\n",
        "    email TEXT NOT NULL,\n",
        "    age INTEGER,\n",
        "    balance REAL,\n",
        "    profile_picture BLOB\n",
        ");\n",
        "'''"
      ],
      "metadata": {
        "id": "lwaguX4za3vU"
      },
      "execution_count": null,
      "outputs": []
    },
    {
      "cell_type": "code",
      "source": [
        "# Execute the query to create the table\n",
        "cursor.execute(create_table_query)"
      ],
      "metadata": {
        "colab": {
          "base_uri": "https://localhost:8080/"
        },
        "id": "js2-j51-a4SL",
        "outputId": "100c2e16-1ebb-413f-cac8-20154f39d71a"
      },
      "execution_count": null,
      "outputs": [
        {
          "output_type": "execute_result",
          "data": {
            "text/plain": [
              "<sqlite3.Cursor at 0x7a392a2bf9c0>"
            ]
          },
          "metadata": {},
          "execution_count": 7
        }
      ]
    },
    {
      "cell_type": "markdown",
      "source": [
        "In this example, we've used different data types such as `INTEGER`, `TEXT`, `REAL`, and `BLOB` to define columns.\n",
        "\n"
      ],
      "metadata": {
        "id": "T1R-L40UbZd0"
      }
    },
    {
      "cell_type": "code",
      "source": [
        "\n",
        "#@title Run this cell to add some users into your table! (It's a secert!:D)\n",
        "# Insert new user records\n",
        "insert_query = '''\n",
        "INSERT INTO users (username, email, age, balance, profile_picture)\n",
        "VALUES (?, ?, ?, ?, ?);\n",
        "'''\n",
        "\n",
        "# List of user data to be inserted\n",
        "user_data = [\n",
        "    ('John Doe', 'john@example.com', 28, 1500.50, None),\n",
        "    ('Jane Smith', 'jane@example.com', 32, 2000.75, None),\n",
        "    ('Sam Brown', 'sam@example.com', 25, 900.25, None)\n",
        "]\n",
        "\n",
        "# Execute the insert query for each user\n",
        "cursor.executemany(insert_query, user_data)\n",
        "\n",
        "# Commit the changes\n",
        "conn.commit()"
      ],
      "metadata": {
        "id": "5gmMsctu8Jub"
      },
      "execution_count": null,
      "outputs": []
    },
    {
      "cell_type": "markdown",
      "source": [
        "##4. Basic SELECT Query\n",
        "\n",
        "To retrieve data from a table, you can use the SELECT statement. Here's an example of fetching all records from the \"users\" table:"
      ],
      "metadata": {
        "id": "3kGvrOGv8-46"
      }
    },
    {
      "cell_type": "code",
      "source": [
        "# Define a SELECT query\n",
        "select_query = '''\n",
        "SELECT * FROM users;\n",
        "'''\n",
        "\n",
        "# Execute the query and fetch all results\n",
        "cursor.execute(select_query)\n",
        "results = cursor.fetchall()\n",
        "\n",
        "# Print the results\n",
        "for row in results:\n",
        "    print(row)\n"
      ],
      "metadata": {
        "colab": {
          "base_uri": "https://localhost:8080/"
        },
        "id": "pgQQU-VE7Jvv",
        "outputId": "0070f17a-89fd-4f73-d449-f97a2eb6b731"
      },
      "execution_count": null,
      "outputs": [
        {
          "output_type": "stream",
          "name": "stdout",
          "text": [
            "(1, 'John Doe', 'john@example.com', 28, 1500.5, None)\n",
            "(2, 'Jane Smith', 'jane@example.com', 32, 2000.75, None)\n",
            "(3, 'Sam Brown', 'sam@example.com', 25, 900.25, None)\n"
          ]
        }
      ]
    },
    {
      "cell_type": "markdown",
      "source": [
        "### 4. PRAGMA Statements\n",
        "\n",
        "SQLite provides `PRAGMA` statements that allow you to control various aspects of the database. For example, you can use `PRAGMA` to inspect table details."
      ],
      "metadata": {
        "id": "9S4HU7yscBmX"
      }
    },
    {
      "cell_type": "code",
      "source": [
        "# Use PRAGMA to inspect details of the \"books\" table\n",
        "pragma_query = '''\n",
        "PRAGMA table_info(users);\n",
        "'''\n",
        "\n",
        "# Execute the PRAGMA query\n",
        "cursor.execute(pragma_query)\n",
        "\n",
        "# Fetch and print the column details\n",
        "column_details = cursor.fetchall()\n",
        "for column in column_details:\n",
        "    print(column)"
      ],
      "metadata": {
        "id": "usNFkPiqcPX1"
      },
      "execution_count": null,
      "outputs": []
    },
    {
      "cell_type": "markdown",
      "source": [
        "In this example, the `PRAGMA table_info(users)`; statement is used to retrieve information about the columns of the `users` table. The result will include details such as column name, data type, whether the column can be NULL, and whether the column is part of the primary key.\n",
        "\n",
        "You can modify the table name (`users` in this example) to match the name of the table you want to inspect."
      ],
      "metadata": {
        "id": "O_TnkD6Tcss2"
      }
    },
    {
      "cell_type": "markdown",
      "source": [
        "###5. Closing the Connection\n",
        "\n",
        "After you're done working with the database, close the cursor and the connection to release resources."
      ],
      "metadata": {
        "id": "b6X7yX65c-Wl"
      }
    },
    {
      "cell_type": "code",
      "source": [
        "# Close the cursor and the connection\n",
        "cursor.close()\n",
        "conn.close()\n"
      ],
      "metadata": {
        "id": "jbSCY0nndJTF"
      },
      "execution_count": null,
      "outputs": []
    },
    {
      "cell_type": "markdown",
      "source": [
        "\n",
        "##**Challenge Question:**\n",
        "\n",
        "You're developing a simple library management system using SQLite for storing book and member information. You need to create two tables: `books` and `members`. Each book has a `title`, `author`, and `publication year`, while each `member` has a `name`, `email`, and `membership status`. Here's your challenge:\n",
        "\n",
        "1. Create the \"books\" and \"members\" tables with appropriate columns and data types to store book and member information.\n",
        "2. Inspect the details of each table after creating them.\n",
        "\n",
        "Use the concepts covered in this tutorial to answer these questions.\n",
        "\n",
        "**Note:** This question tests your ability to design and interact with multiple tables in an SQLite database. Take your time to think through each step and apply the knowledge you've gained from the tutorial."
      ],
      "metadata": {
        "id": "zdzLCIEAgPHi"
      }
    },
    {
      "cell_type": "code",
      "source": [
        "import sqlite3\n",
        "\n",
        "con = sqlite3.connect('Lab_intro1.db')\n",
        "cursor = con.cursor()\n",
        "cursor.execute(\"\"\"CREATE TABLE IF NOT EXISTS books(\n",
        "          title text NOT NULL,\n",
        "          author text NOT NULL,\n",
        "          publication_year int NOT NULL)\"\"\")\n",
        "\n",
        "cursor.execute(\"\"\"CREATE TABLE IF NOT EXISTS members(\n",
        "          name text NOT NULL,\n",
        "          email text NOT NULL UNIQUE,\n",
        "          membership_status text NOT NULL UNIQUE)\"\"\")\n",
        "\n",
        "\n",
        "print(\"--------------------- Books Tables ---------------------------------\\n\")\n",
        "\n",
        "# Use PRAGMA to inspect details of the \"books\" table\n",
        "pragma_query = '''\n",
        "PRAGMA table_info(books);\n",
        "'''\n",
        "\n",
        "# Execute the PRAGMA query\n",
        "cursor.execute(pragma_query)\n",
        "\n",
        "# Fetch and print the column details\n",
        "column_details = cursor.fetchall()\n",
        "for column in column_details:\n",
        "    print(column)\n",
        "\n",
        "print(\"\\n--------------------- Member Tables ---------------------------------\\n\")\n",
        "# Use PRAGMA to inspect details of the \"member\" table\n",
        "pragma_query = '''\n",
        "PRAGMA table_info(members);\n",
        "'''\n",
        "\n",
        "# Execute the PRAGMA query\n",
        "cursor.execute(pragma_query)\n",
        "\n",
        "# Fetch and print the column details\n",
        "column_details = cursor.fetchall()\n",
        "for column in column_details:\n",
        "    print(column)\n",
        "\n",
        "\n",
        "# Close the cursor and the connection\n",
        "cursor.close()\n",
        "con.close()"
      ],
      "metadata": {
        "id": "AHJJi5CMPNM7",
        "colab": {
          "base_uri": "https://localhost:8080/"
        },
        "outputId": "58e596a9-4e9f-4d48-f16d-6195197a65bf"
      },
      "execution_count": null,
      "outputs": [
        {
          "output_type": "stream",
          "name": "stdout",
          "text": [
            "--------------------- Books Tables ---------------------------------\n",
            "\n",
            "(0, 'title', 'TEXT', 1, None, 0)\n",
            "(1, 'author', 'TEXT', 1, None, 0)\n",
            "(2, 'publication_year', 'INT', 1, None, 0)\n",
            "\n",
            "--------------------- Member Tables ---------------------------------\n",
            "\n",
            "(0, 'name', 'TEXT', 1, None, 0)\n",
            "(1, 'email', 'TEXT', 1, None, 0)\n",
            "(2, 'membership_status', 'TEXT', 1, None, 0)\n"
          ]
        }
      ]
    }
  ]
}